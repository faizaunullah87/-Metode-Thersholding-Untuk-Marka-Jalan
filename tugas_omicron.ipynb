{
  "nbformat": 4,
  "nbformat_minor": 0,
  "metadata": {
    "colab": {
      "name": "tugas omicron",
      "provenance": [],
      "collapsed_sections": [],
      "authorship_tag": "ABX9TyMBP4AALtIVEh7f0be+Tmhx",
      "include_colab_link": true
    },
    "kernelspec": {
      "name": "python3",
      "display_name": "Python 3"
    },
    "language_info": {
      "name": "python"
    }
  },
  "cells": [
    {
      "cell_type": "markdown",
      "metadata": {
        "id": "view-in-github",
        "colab_type": "text"
      },
      "source": [
        "<a href=\"https://colab.research.google.com/github/faizaunullah87/-Metode-Thersholding-Untuk-Marka-Jalan/blob/main/tugas_omicron.ipynb\" target=\"_parent\"><img src=\"https://colab.research.google.com/assets/colab-badge.svg\" alt=\"Open In Colab\"/></a>"
      ]
    },
    {
      "cell_type": "code",
      "execution_count": null,
      "metadata": {
        "id": "IiTddJ9lFwmg"
      },
      "outputs": [],
      "source": [
        "import pandas as pd\n",
        "import plotly.express as px\n",
        "import matplotlib.pyplot as plt\n",
        "\n",
        "\n",
        "import pandas_profiling as pp"
      ]
    },
    {
      "cell_type": "code",
      "source": [
        "omicron = pd.read_csv ('./omicron.csv')"
      ],
      "metadata": {
        "id": "u58vn9p1GFof"
      },
      "execution_count": null,
      "outputs": []
    },
    {
      "cell_type": "code",
      "source": [
        "omicron.head(5)"
      ],
      "metadata": {
        "colab": {
          "base_uri": "https://localhost:8080/",
          "height": 530
        },
        "id": "Ekgij6jYHBOn",
        "outputId": "e6297200-cba2-4179-93df-e128e9be97c7"
      },
      "execution_count": null,
      "outputs": [
        {
          "output_type": "execute_result",
          "data": {
            "text/html": [
              "\n",
              "  <div id=\"df-171203f9-e065-4c14-bee9-09b676bd8767\">\n",
              "    <div class=\"colab-df-container\">\n",
              "      <div>\n",
              "<style scoped>\n",
              "    .dataframe tbody tr th:only-of-type {\n",
              "        vertical-align: middle;\n",
              "    }\n",
              "\n",
              "    .dataframe tbody tr th {\n",
              "        vertical-align: top;\n",
              "    }\n",
              "\n",
              "    .dataframe thead th {\n",
              "        text-align: right;\n",
              "    }\n",
              "</style>\n",
              "<table border=\"1\" class=\"dataframe\">\n",
              "  <thead>\n",
              "    <tr style=\"text-align: right;\">\n",
              "      <th></th>\n",
              "      <th>id</th>\n",
              "      <th>user_name</th>\n",
              "      <th>user_location</th>\n",
              "      <th>user_description</th>\n",
              "      <th>user_created</th>\n",
              "      <th>user_followers</th>\n",
              "      <th>user_friends</th>\n",
              "      <th>user_favourites</th>\n",
              "      <th>user_verified</th>\n",
              "      <th>date</th>\n",
              "      <th>text</th>\n",
              "      <th>hashtags</th>\n",
              "      <th>source</th>\n",
              "      <th>retweets</th>\n",
              "      <th>favorites</th>\n",
              "      <th>is_retweet</th>\n",
              "    </tr>\n",
              "  </thead>\n",
              "  <tbody>\n",
              "    <tr>\n",
              "      <th>0</th>\n",
              "      <td>1491840066506743820</td>\n",
              "      <td>Nathan Joyner</td>\n",
              "      <td>Los Angeles, CA</td>\n",
              "      <td>Global Venture Captial and Private Equity/Busi...</td>\n",
              "      <td>2015-05-18 20:52:29</td>\n",
              "      <td>49</td>\n",
              "      <td>11</td>\n",
              "      <td>803</td>\n",
              "      <td>False</td>\n",
              "      <td>2022-02-10 18:22:43</td>\n",
              "      <td>Daily US Confirmed Covid Cases by County For M...</td>\n",
              "      <td>NaN</td>\n",
              "      <td>smcapplication</td>\n",
              "      <td>0</td>\n",
              "      <td>0</td>\n",
              "      <td>False</td>\n",
              "    </tr>\n",
              "    <tr>\n",
              "      <th>1</th>\n",
              "      <td>1491839660674490371</td>\n",
              "      <td>Gatherer Thompson</td>\n",
              "      <td>Corporate</td>\n",
              "      <td>I'm with the people who are with everyone. A s...</td>\n",
              "      <td>2009-05-10 23:01:22</td>\n",
              "      <td>639</td>\n",
              "      <td>1931</td>\n",
              "      <td>46369</td>\n",
              "      <td>False</td>\n",
              "      <td>2022-02-10 18:21:06</td>\n",
              "      <td>@Yascha_Mounk #CDC says number of fully #vacci...</td>\n",
              "      <td>['CDC', 'vaccinated', 'Omicron', 'hospital']</td>\n",
              "      <td>Twitter Web App</td>\n",
              "      <td>0</td>\n",
              "      <td>0</td>\n",
              "      <td>False</td>\n",
              "    </tr>\n",
              "    <tr>\n",
              "      <th>2</th>\n",
              "      <td>1491839607368867842</td>\n",
              "      <td>Nathan Joyner</td>\n",
              "      <td>Los Angeles, CA</td>\n",
              "      <td>Global Venture Captial and Private Equity/Busi...</td>\n",
              "      <td>2015-05-18 20:52:29</td>\n",
              "      <td>49</td>\n",
              "      <td>11</td>\n",
              "      <td>803</td>\n",
              "      <td>False</td>\n",
              "      <td>2022-02-10 18:20:54</td>\n",
              "      <td>Daily US Confirmed Covid Cases by County For L...</td>\n",
              "      <td>NaN</td>\n",
              "      <td>smcapplication</td>\n",
              "      <td>0</td>\n",
              "      <td>0</td>\n",
              "      <td>False</td>\n",
              "    </tr>\n",
              "    <tr>\n",
              "      <th>3</th>\n",
              "      <td>1491839207169351689</td>\n",
              "      <td>Nathan Joyner</td>\n",
              "      <td>Los Angeles, CA</td>\n",
              "      <td>Global Venture Captial and Private Equity/Busi...</td>\n",
              "      <td>2015-05-18 20:52:29</td>\n",
              "      <td>49</td>\n",
              "      <td>11</td>\n",
              "      <td>803</td>\n",
              "      <td>False</td>\n",
              "      <td>2022-02-10 18:19:18</td>\n",
              "      <td>Daily US Confirmed Covid Cases by County For L...</td>\n",
              "      <td>NaN</td>\n",
              "      <td>smcapplication</td>\n",
              "      <td>2</td>\n",
              "      <td>1</td>\n",
              "      <td>False</td>\n",
              "    </tr>\n",
              "    <tr>\n",
              "      <th>4</th>\n",
              "      <td>1491839165608177667</td>\n",
              "      <td>Brownyard Group</td>\n",
              "      <td>Bay Shore, NY</td>\n",
              "      <td>We offer liability coverage for the Security G...</td>\n",
              "      <td>2009-12-08 16:41:53</td>\n",
              "      <td>375</td>\n",
              "      <td>284</td>\n",
              "      <td>61</td>\n",
              "      <td>False</td>\n",
              "      <td>2022-02-10 18:19:08</td>\n",
              "      <td>With the #Beijing2022 #WinterOlympics already ...</td>\n",
              "      <td>['Beijing2022', 'WinterOlympics', 'olympians',...</td>\n",
              "      <td>Agorapulse app</td>\n",
              "      <td>0</td>\n",
              "      <td>0</td>\n",
              "      <td>False</td>\n",
              "    </tr>\n",
              "  </tbody>\n",
              "</table>\n",
              "</div>\n",
              "      <button class=\"colab-df-convert\" onclick=\"convertToInteractive('df-171203f9-e065-4c14-bee9-09b676bd8767')\"\n",
              "              title=\"Convert this dataframe to an interactive table.\"\n",
              "              style=\"display:none;\">\n",
              "        \n",
              "  <svg xmlns=\"http://www.w3.org/2000/svg\" height=\"24px\"viewBox=\"0 0 24 24\"\n",
              "       width=\"24px\">\n",
              "    <path d=\"M0 0h24v24H0V0z\" fill=\"none\"/>\n",
              "    <path d=\"M18.56 5.44l.94 2.06.94-2.06 2.06-.94-2.06-.94-.94-2.06-.94 2.06-2.06.94zm-11 1L8.5 8.5l.94-2.06 2.06-.94-2.06-.94L8.5 2.5l-.94 2.06-2.06.94zm10 10l.94 2.06.94-2.06 2.06-.94-2.06-.94-.94-2.06-.94 2.06-2.06.94z\"/><path d=\"M17.41 7.96l-1.37-1.37c-.4-.4-.92-.59-1.43-.59-.52 0-1.04.2-1.43.59L10.3 9.45l-7.72 7.72c-.78.78-.78 2.05 0 2.83L4 21.41c.39.39.9.59 1.41.59.51 0 1.02-.2 1.41-.59l7.78-7.78 2.81-2.81c.8-.78.8-2.07 0-2.86zM5.41 20L4 18.59l7.72-7.72 1.47 1.35L5.41 20z\"/>\n",
              "  </svg>\n",
              "      </button>\n",
              "      \n",
              "  <style>\n",
              "    .colab-df-container {\n",
              "      display:flex;\n",
              "      flex-wrap:wrap;\n",
              "      gap: 12px;\n",
              "    }\n",
              "\n",
              "    .colab-df-convert {\n",
              "      background-color: #E8F0FE;\n",
              "      border: none;\n",
              "      border-radius: 50%;\n",
              "      cursor: pointer;\n",
              "      display: none;\n",
              "      fill: #1967D2;\n",
              "      height: 32px;\n",
              "      padding: 0 0 0 0;\n",
              "      width: 32px;\n",
              "    }\n",
              "\n",
              "    .colab-df-convert:hover {\n",
              "      background-color: #E2EBFA;\n",
              "      box-shadow: 0px 1px 2px rgba(60, 64, 67, 0.3), 0px 1px 3px 1px rgba(60, 64, 67, 0.15);\n",
              "      fill: #174EA6;\n",
              "    }\n",
              "\n",
              "    [theme=dark] .colab-df-convert {\n",
              "      background-color: #3B4455;\n",
              "      fill: #D2E3FC;\n",
              "    }\n",
              "\n",
              "    [theme=dark] .colab-df-convert:hover {\n",
              "      background-color: #434B5C;\n",
              "      box-shadow: 0px 1px 3px 1px rgba(0, 0, 0, 0.15);\n",
              "      filter: drop-shadow(0px 1px 2px rgba(0, 0, 0, 0.3));\n",
              "      fill: #FFFFFF;\n",
              "    }\n",
              "  </style>\n",
              "\n",
              "      <script>\n",
              "        const buttonEl =\n",
              "          document.querySelector('#df-171203f9-e065-4c14-bee9-09b676bd8767 button.colab-df-convert');\n",
              "        buttonEl.style.display =\n",
              "          google.colab.kernel.accessAllowed ? 'block' : 'none';\n",
              "\n",
              "        async function convertToInteractive(key) {\n",
              "          const element = document.querySelector('#df-171203f9-e065-4c14-bee9-09b676bd8767');\n",
              "          const dataTable =\n",
              "            await google.colab.kernel.invokeFunction('convertToInteractive',\n",
              "                                                     [key], {});\n",
              "          if (!dataTable) return;\n",
              "\n",
              "          const docLinkHtml = 'Like what you see? Visit the ' +\n",
              "            '<a target=\"_blank\" href=https://colab.research.google.com/notebooks/data_table.ipynb>data table notebook</a>'\n",
              "            + ' to learn more about interactive tables.';\n",
              "          element.innerHTML = '';\n",
              "          dataTable['output_type'] = 'display_data';\n",
              "          await google.colab.output.renderOutput(dataTable, element);\n",
              "          const docLink = document.createElement('div');\n",
              "          docLink.innerHTML = docLinkHtml;\n",
              "          element.appendChild(docLink);\n",
              "        }\n",
              "      </script>\n",
              "    </div>\n",
              "  </div>\n",
              "  "
            ],
            "text/plain": [
              "                    id          user_name    user_location  \\\n",
              "0  1491840066506743820      Nathan Joyner  Los Angeles, CA   \n",
              "1  1491839660674490371  Gatherer Thompson        Corporate   \n",
              "2  1491839607368867842      Nathan Joyner  Los Angeles, CA   \n",
              "3  1491839207169351689      Nathan Joyner  Los Angeles, CA   \n",
              "4  1491839165608177667    Brownyard Group    Bay Shore, NY   \n",
              "\n",
              "                                    user_description         user_created  \\\n",
              "0  Global Venture Captial and Private Equity/Busi...  2015-05-18 20:52:29   \n",
              "1  I'm with the people who are with everyone. A s...  2009-05-10 23:01:22   \n",
              "2  Global Venture Captial and Private Equity/Busi...  2015-05-18 20:52:29   \n",
              "3  Global Venture Captial and Private Equity/Busi...  2015-05-18 20:52:29   \n",
              "4  We offer liability coverage for the Security G...  2009-12-08 16:41:53   \n",
              "\n",
              "   user_followers  user_friends  user_favourites  user_verified  \\\n",
              "0              49            11              803          False   \n",
              "1             639          1931            46369          False   \n",
              "2              49            11              803          False   \n",
              "3              49            11              803          False   \n",
              "4             375           284               61          False   \n",
              "\n",
              "                  date                                               text  \\\n",
              "0  2022-02-10 18:22:43  Daily US Confirmed Covid Cases by County For M...   \n",
              "1  2022-02-10 18:21:06  @Yascha_Mounk #CDC says number of fully #vacci...   \n",
              "2  2022-02-10 18:20:54  Daily US Confirmed Covid Cases by County For L...   \n",
              "3  2022-02-10 18:19:18  Daily US Confirmed Covid Cases by County For L...   \n",
              "4  2022-02-10 18:19:08  With the #Beijing2022 #WinterOlympics already ...   \n",
              "\n",
              "                                            hashtags           source  \\\n",
              "0                                                NaN   smcapplication   \n",
              "1       ['CDC', 'vaccinated', 'Omicron', 'hospital']  Twitter Web App   \n",
              "2                                                NaN   smcapplication   \n",
              "3                                                NaN   smcapplication   \n",
              "4  ['Beijing2022', 'WinterOlympics', 'olympians',...   Agorapulse app   \n",
              "\n",
              "   retweets  favorites  is_retweet  \n",
              "0         0          0       False  \n",
              "1         0          0       False  \n",
              "2         0          0       False  \n",
              "3         2          1       False  \n",
              "4         0          0       False  "
            ]
          },
          "metadata": {},
          "execution_count": 5
        }
      ]
    },
    {
      "cell_type": "code",
      "source": [
        "omicron.shape"
      ],
      "metadata": {
        "colab": {
          "base_uri": "https://localhost:8080/"
        },
        "id": "HGP6mYfHHWry",
        "outputId": "7b8c67e1-5e6b-46b0-b939-61c5185fcdef"
      },
      "execution_count": null,
      "outputs": [
        {
          "output_type": "execute_result",
          "data": {
            "text/plain": [
              "(17046, 16)"
            ]
          },
          "metadata": {},
          "execution_count": 6
        }
      ]
    },
    {
      "cell_type": "markdown",
      "source": [
        "info data"
      ],
      "metadata": {
        "id": "OJXBVeISHcla"
      }
    },
    {
      "cell_type": "code",
      "source": [
        "omicron.isnull().sum()"
      ],
      "metadata": {
        "colab": {
          "base_uri": "https://localhost:8080/"
        },
        "id": "8niqqiwRHifQ",
        "outputId": "72046396-1820-41b1-92ba-09dbbcc7f74f"
      },
      "execution_count": null,
      "outputs": [
        {
          "output_type": "execute_result",
          "data": {
            "text/plain": [
              "id                     0\n",
              "user_name              0\n",
              "user_location       3612\n",
              "user_description    1330\n",
              "user_created           0\n",
              "user_followers         0\n",
              "user_friends           0\n",
              "user_favourites        0\n",
              "user_verified          0\n",
              "date                   0\n",
              "text                   0\n",
              "hashtags            6827\n",
              "source                 0\n",
              "retweets               0\n",
              "favorites              0\n",
              "is_retweet             0\n",
              "dtype: int64"
            ]
          },
          "metadata": {},
          "execution_count": 26
        }
      ]
    },
    {
      "cell_type": "code",
      "source": [
        "omicron.info()"
      ],
      "metadata": {
        "colab": {
          "base_uri": "https://localhost:8080/"
        },
        "id": "189VOY3tH6B9",
        "outputId": "5f0f6471-c744-463b-9a98-b7a5a170d232"
      },
      "execution_count": null,
      "outputs": [
        {
          "output_type": "stream",
          "name": "stdout",
          "text": [
            "<class 'pandas.core.frame.DataFrame'>\n",
            "RangeIndex: 17046 entries, 0 to 17045\n",
            "Data columns (total 16 columns):\n",
            " #   Column            Non-Null Count  Dtype \n",
            "---  ------            --------------  ----- \n",
            " 0   id                17046 non-null  int64 \n",
            " 1   user_name         17046 non-null  object\n",
            " 2   user_location     13434 non-null  object\n",
            " 3   user_description  15716 non-null  object\n",
            " 4   user_created      17046 non-null  object\n",
            " 5   user_followers    17046 non-null  int64 \n",
            " 6   user_friends      17046 non-null  int64 \n",
            " 7   user_favourites   17046 non-null  int64 \n",
            " 8   user_verified     17046 non-null  bool  \n",
            " 9   date              17046 non-null  object\n",
            " 10  text              17046 non-null  object\n",
            " 11  hashtags          10219 non-null  object\n",
            " 12  source            17046 non-null  object\n",
            " 13  retweets          17046 non-null  int64 \n",
            " 14  favorites         17046 non-null  int64 \n",
            " 15  is_retweet        17046 non-null  bool  \n",
            "dtypes: bool(2), int64(6), object(8)\n",
            "memory usage: 1.9+ MB\n"
          ]
        }
      ]
    },
    {
      "cell_type": "code",
      "source": [
        "omicron.date = pd.to_datetime(omicron.date)\n"
      ],
      "metadata": {
        "id": "cxElxGGeJZQv"
      },
      "execution_count": null,
      "outputs": []
    },
    {
      "cell_type": "code",
      "source": [
        "print('dari tanggal ', omicron.date.min(), 'sampai tanggal ', omicron.date.max())"
      ],
      "metadata": {
        "colab": {
          "base_uri": "https://localhost:8080/"
        },
        "id": "xjMx2k13IGSk",
        "outputId": "27d6e412-2491-4548-e14e-7ee8368102f4"
      },
      "execution_count": null,
      "outputs": [
        {
          "output_type": "stream",
          "name": "stdout",
          "text": [
            "dari tanggal  2022-02-09 02:31:37 sampai tanggal  2022-03-08 19:50:01\n"
          ]
        }
      ]
    },
    {
      "cell_type": "code",
      "source": [
        "print('Jumlah negara dalam data : ', len(omicron.user_location.unique()))\n"
      ],
      "metadata": {
        "colab": {
          "base_uri": "https://localhost:8080/"
        },
        "id": "zI3zWRQWJO11",
        "outputId": "0ee2319d-a801-490e-a667-b78903d4b302"
      },
      "execution_count": null,
      "outputs": [
        {
          "output_type": "stream",
          "name": "stdout",
          "text": [
            "Jumlah negara dalam data :  2475\n"
          ]
        }
      ]
    }
  ]
}